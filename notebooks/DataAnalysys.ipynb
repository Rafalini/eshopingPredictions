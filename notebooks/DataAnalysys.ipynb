{
 "cells": [
  {
   "cell_type": "markdown",
   "id": "9c093a26",
   "metadata": {},
   "source": [
    "# Wstępna analiza IUM\n",
    "Rafał Bosko <br>"
   ]
  },
  {
   "cell_type": "code",
   "execution_count": 3,
   "id": "29054f44",
   "metadata": {},
   "outputs": [],
   "source": [
    "import jsonlines\n",
    "import json\n",
    "import pandas as pd\n",
    "import math\n",
    "import matplotlib.pyplot as plt"
   ]
  },
  {
   "cell_type": "markdown",
   "id": "aa5dcd72",
   "metadata": {},
   "source": [
    "## Problem biznesowy\n",
    "<blockquote>\n",
    "Predykcja czy dana sesja użytkownika zakończy się zakupem na podstawie danych sesji. Skuteczna klasyfikacja sesji, które zakończą się zakupem umożliwi konsultantom szybsze rozwiązywanie problemów\n",
    "</blockquote>\n",
    "\n",
    "## Biznesowe kryterium sukcesu\n",
    "System powinien przewidywać sesje, które zakończą się zakupem z efektywnością porównywalną z innymi istniejącymi rozwiązaniami wymienionymi w [literaturze](#Literatura). Dostarczenie takiej informacji pozwoli nie tylko na szybsze rozwiązywanie problemów, ale i zidentyfikowanie m.in. trendów sprzedażowych.\n",
    "\n",
    "## Zadanie modelowania\n",
    "Zadaniem jest klasyfikacja binarna odpowiadająca na pytanie \"Czy sesja użytkownika zakończy się zakupem?\".\n",
    "\n",
    "Zmienną celu natomiast będzie liczbowa miara jakości generowanych predykcji dla wciąż trwających sesji, zdefiniowana jako *Accuracy* w sekcji poświęconej kryteriom sukcesu.\n",
    "\n",
    "Do dyspozycji mamy historyczne dane składające się z:\n",
    "* bazy użytkowników\n",
    "* katalogu produktów\n",
    "* historia sesji\n",
    "* dane dotyczące wysyłki zakupionych produktów\n",
    "\n",
    "Analiza tych danych historycznych, przydatnych do zbudowania modelu generującego predykcje znajduje się w sekcji o analizie zbioru danych.\n",
    "\n",
    "## Analityczne kryterium sukcesu\n",
    "Uzyskanie odpowiednio wysokiej skuteczności predykcji zapewnia miara *Accuracy* obliczana jako: \n",
    "$\\frac{TP + TN}{TP + TN + FP + FN}$\n",
    "\n",
    "Rozważaliśmy również *F1 score*, obliczanej jako: $2 * \\frac{Precision * Recall}{Precision + Recall}$ gdzie: <br>\n",
    "$Precision = \\frac{TP}{TP + FP}$ oraz $Recall = \\frac{TP}{TP + FN}$\n",
    "\n",
    "Nie zdecydowaliśmy jednak wstępnie na tą miarę, ponieważ:\n",
    "* jest trudniejsza do interpretacji\n",
    "* F1 sprawdza się lepiej od Accuraccy w przypadku, gdy jest duża dysproporcja między klasami, a w naszym przypadku takiego problemu nie ma\n",
    "\n",
    "## Analiza zbioru danych\n",
    "Wstępna analiza danych pozwoliła nam odrzucić dane o przesyłkach, ponieważ te dane są dostarczane po zakupie i nie wpływają na zakup, podobna sytuacja dotyyczyła dwóch kolumn z tabeli sessions: typ zdarzenia i id zakupu, ponieważ to warość typu zdarzenia (zakup czy nie) będziemy przewidywali, a id zakupu jest ściśle skorelowane z typem zdarzenia.\n",
    "\n",
    "Informacje zawarte w pozostałych tabelach są dostępne w trakcie trwania sesji, więc przeszliśmy do bardziej szczegółowej analizy tego fragmentu danych.\n",
    "\n",
    "Postanowiliśmy wyróżnić ze zbioru danych następujące informacje:\n",
    "* [*user_id*](#userId) - identyfikator użytkownika\n",
    "* [*purchase*](#purchase) - wartość boolowska odpowiadająca na pytanie czy sesja zakończyła się zakupem\n",
    "* [*offered_discount*](#discount) - wysokość zniżki\n",
    "* [*item_views*](#item_views) - liczba obejrzanych przedmiotów w danej sesji\n",
    "* [*unique_item_views*](#unique_item_views) - liczba przejrzanych unikalnych przedmiotów\n",
    "* [*unique_categories*](#unique_categories) - liczba przejrzanych unikalnych kategorii\n",
    "\n",
    "## Brakujące bądź niepoprawne wartości\n",
    "Kontynuowaliśmy analizę danych, sprawdzając czy dane są poprawne, oraz czy wszystkie informacje są ze sobą powiązane w prawidłowy sposób. W wypadku niemożliwych do usunięcia błędów wartości, wskazanym będzie prośba do dostawcy danych o ich poprawienie.\n"
   ]
  },
  {
   "cell_type": "code",
   "execution_count": 37,
   "id": "e858330e",
   "metadata": {},
   "outputs": [],
   "source": [
    "def getDataFromJson(fileName):\n",
    "    with open('../data/raw/'+fileName) as f:\n",
    "        lines = f.read().splitlines()\n",
    "    \n",
    "    dataFrame = pd.DataFrame(lines)\n",
    "    dataFrame.columns = ['json_element']\n",
    "    return pd.json_normalize(dataFrame['json_element'].apply(json.loads))"
   ]
  },
  {
   "cell_type": "markdown",
   "id": "68aae08f",
   "metadata": {},
   "source": [
    "### Analiza poprawności danych - sesje\n",
    "Dane sesji w większości wypadków nie posiadają braków - tylko w kolumnie *purchase_id* występują wartości puste. Kolumna ta jednak sygnalizuje, że brak zakupu produktu oznaczany jest wartością null. Wartość ta zawsze znajduje się wspólnie z wartością VIEW_PRODUCT w kolumnie *event_type*, więc można założyć, że dane te są poprawne.\n",
    "\n",
    "Ważnym jest jednak sprawdzenie pomyślnego połączenia danych sesji z danymi użytkownika. Zostało to wykonane w analizie poprawności danych użytkownika. "
   ]
  },
  {
   "cell_type": "code",
   "execution_count": 41,
   "id": "b311829f",
   "metadata": {},
   "outputs": [
    {
     "name": "stdout",
     "output_type": "stream",
     "text": [
      "<class 'pandas.core.frame.DataFrame'>\n",
      "RangeIndex: 37003 entries, 0 to 37002\n",
      "Data columns (total 7 columns):\n",
      " #   Column            Non-Null Count  Dtype  \n",
      "---  ------            --------------  -----  \n",
      " 0   session_id        37003 non-null  int64  \n",
      " 1   timestamp         37003 non-null  object \n",
      " 2   user_id           37003 non-null  int64  \n",
      " 3   product_id        37003 non-null  int64  \n",
      " 4   event_type        37003 non-null  object \n",
      " 5   offered_discount  37003 non-null  int64  \n",
      " 6   purchase_id       5686 non-null   float64\n",
      "dtypes: float64(1), int64(4), object(2)\n",
      "memory usage: 2.0+ MB\n"
     ]
    },
    {
     "data": {
      "text/plain": [
       "count            37003\n",
       "unique               2\n",
       "top       VIEW_PRODUCT\n",
       "freq             31317\n",
       "Name: event_type, dtype: object"
      ]
     },
     "execution_count": 41,
     "metadata": {},
     "output_type": "execute_result"
    }
   ],
   "source": [
    "sessionsDataFrame = getDataFromJson('sessions.jsonl')\n",
    "sessionsDataFrame.info()\n",
    "\n",
    "sessionsDataFrame[\"event_type\"].describe()"
   ]
  },
  {
   "cell_type": "markdown",
   "id": "d11a8fb1",
   "metadata": {},
   "source": [
    "### Analiza poprawności danych - użytkownicy\n",
    "Dane użytkowników nie posiadają żadnych braków.\n",
    "\n",
    "Dokonane zostało sprawdzenie, czy wszystkie *user_id* z tabeli danych sesji pokrywają się z *user_id* z tabeli użytkownika, by nie pominąć przypadku, gdy w kolumnie *user_id* wpisany jets niepoprawny użytkownik. Sprawdzenie to poszło pomyślnie."
   ]
  },
  {
   "cell_type": "code",
   "execution_count": 43,
   "id": "8701c939",
   "metadata": {},
   "outputs": [
    {
     "data": {
      "text/html": [
       "<div>\n",
       "<style scoped>\n",
       "    .dataframe tbody tr th:only-of-type {\n",
       "        vertical-align: middle;\n",
       "    }\n",
       "\n",
       "    .dataframe tbody tr th {\n",
       "        vertical-align: top;\n",
       "    }\n",
       "\n",
       "    .dataframe thead th {\n",
       "        text-align: right;\n",
       "    }\n",
       "</style>\n",
       "<table border=\"1\" class=\"dataframe\">\n",
       "  <thead>\n",
       "    <tr style=\"text-align: right;\">\n",
       "      <th></th>\n",
       "      <th>user_id</th>\n",
       "      <th>name</th>\n",
       "      <th>city</th>\n",
       "      <th>street</th>\n",
       "    </tr>\n",
       "  </thead>\n",
       "  <tbody>\n",
       "    <tr>\n",
       "      <th>0</th>\n",
       "      <td>102</td>\n",
       "      <td>Mariusz Czerniec</td>\n",
       "      <td>Wrocław</td>\n",
       "      <td>pl. Północna 59/33</td>\n",
       "    </tr>\n",
       "    <tr>\n",
       "      <th>1</th>\n",
       "      <td>103</td>\n",
       "      <td>Adrianna Luberda</td>\n",
       "      <td>Poznań</td>\n",
       "      <td>ulica Szpitalna 80/66</td>\n",
       "    </tr>\n",
       "    <tr>\n",
       "      <th>2</th>\n",
       "      <td>104</td>\n",
       "      <td>Sylwia Adrian</td>\n",
       "      <td>Gdynia</td>\n",
       "      <td>plac Wyszyńskiego 774</td>\n",
       "    </tr>\n",
       "    <tr>\n",
       "      <th>3</th>\n",
       "      <td>105</td>\n",
       "      <td>Julianna Milej</td>\n",
       "      <td>Poznań</td>\n",
       "      <td>al. Podleśna 75/81</td>\n",
       "    </tr>\n",
       "    <tr>\n",
       "      <th>4</th>\n",
       "      <td>106</td>\n",
       "      <td>Ada Fiołka</td>\n",
       "      <td>Warszawa</td>\n",
       "      <td>plac Jagiellońska 432</td>\n",
       "    </tr>\n",
       "  </tbody>\n",
       "</table>\n",
       "</div>"
      ],
      "text/plain": [
       "   user_id              name      city                 street\n",
       "0      102  Mariusz Czerniec   Wrocław     pl. Północna 59/33\n",
       "1      103  Adrianna Luberda    Poznań  ulica Szpitalna 80/66\n",
       "2      104     Sylwia Adrian    Gdynia  plac Wyszyńskiego 774\n",
       "3      105    Julianna Milej    Poznań     al. Podleśna 75/81\n",
       "4      106        Ada Fiołka  Warszawa  plac Jagiellońska 432"
      ]
     },
     "execution_count": 43,
     "metadata": {},
     "output_type": "execute_result"
    }
   ],
   "source": [
    "usersDataFrame = getDataFromJson('users.jsonl')\n",
    "usersDataFrame.head()"
   ]
  },
  {
   "cell_type": "code",
   "execution_count": 47,
   "id": "6dfc071b",
   "metadata": {},
   "outputs": [
    {
     "name": "stdout",
     "output_type": "stream",
     "text": [
      "<class 'pandas.core.frame.DataFrame'>\n",
      "RangeIndex: 200 entries, 0 to 199\n",
      "Data columns (total 4 columns):\n",
      " #   Column   Non-Null Count  Dtype \n",
      "---  ------   --------------  ----- \n",
      " 0   user_id  200 non-null    int64 \n",
      " 1   name     200 non-null    object\n",
      " 2   city     200 non-null    object\n",
      " 3   street   200 non-null    object\n",
      "dtypes: int64(1), object(3)\n",
      "memory usage: 6.4+ KB\n"
     ]
    }
   ],
   "source": [
    "usersDataFrame.info()\n",
    "\n",
    "with open(\"../data/raw/users.jsonl\") as file:\n",
    "  lines = [n.strip() for n in file.readlines()]\n",
    "  user_raw_data = [json.loads(n) for n in lines]\n",
    "    \n",
    "with open(\"../data/raw/sessions.jsonl\") as file:\n",
    "  lines = [n.strip() for n in file.readlines()]\n",
    "  session_raw_data = [json.loads(n) for n in lines]\n",
    "\n",
    "user_data_ids = set(user['user_id'] for user in user_raw_data)\n",
    "for session in session_raw_data:\n",
    "    assert session['user_id'] in user_data_ids"
   ]
  },
  {
   "cell_type": "markdown",
   "id": "7a3b8dfc",
   "metadata": {},
   "source": [
    "### Analiza poprawności danych - produkty\n",
    "Dane użytkowników nie posiadają żadnych braków.\n",
    "\n",
    "Dokonane zostało sprawdzenie, czy wszystkie *product_id* z tabeli danych sesji pokrywają się z *product_id* z tabeli produktów, by nie pominąć przypadku, gdy w kolumnie *product_id* wpisany jets niepoprawny produkt. Sprawdzenie to poszło pomyślnie."
   ]
  },
  {
   "cell_type": "code",
   "execution_count": 48,
   "id": "00942be1",
   "metadata": {
    "scrolled": true
   },
   "outputs": [
    {
     "data": {
      "text/html": [
       "<div>\n",
       "<style scoped>\n",
       "    .dataframe tbody tr th:only-of-type {\n",
       "        vertical-align: middle;\n",
       "    }\n",
       "\n",
       "    .dataframe tbody tr th {\n",
       "        vertical-align: top;\n",
       "    }\n",
       "\n",
       "    .dataframe thead th {\n",
       "        text-align: right;\n",
       "    }\n",
       "</style>\n",
       "<table border=\"1\" class=\"dataframe\">\n",
       "  <thead>\n",
       "    <tr style=\"text-align: right;\">\n",
       "      <th></th>\n",
       "      <th>product_id</th>\n",
       "      <th>product_name</th>\n",
       "      <th>category_path</th>\n",
       "      <th>price</th>\n",
       "    </tr>\n",
       "  </thead>\n",
       "  <tbody>\n",
       "    <tr>\n",
       "      <th>0</th>\n",
       "      <td>1001</td>\n",
       "      <td>Telefon Siemens Gigaset DA310</td>\n",
       "      <td>Telefony i akcesoria;Telefony stacjonarne</td>\n",
       "      <td>58.97</td>\n",
       "    </tr>\n",
       "    <tr>\n",
       "      <th>1</th>\n",
       "      <td>1002</td>\n",
       "      <td>Kyocera FS-1135MFP</td>\n",
       "      <td>Komputery;Drukarki i skanery;Biurowe urządzeni...</td>\n",
       "      <td>2048.50</td>\n",
       "    </tr>\n",
       "    <tr>\n",
       "      <th>2</th>\n",
       "      <td>1003</td>\n",
       "      <td>Kyocera FS-3640MFP</td>\n",
       "      <td>Komputery;Drukarki i skanery;Biurowe urządzeni...</td>\n",
       "      <td>7639.00</td>\n",
       "    </tr>\n",
       "    <tr>\n",
       "      <th>3</th>\n",
       "      <td>1004</td>\n",
       "      <td>Fallout 3 (Xbox 360)</td>\n",
       "      <td>Gry i konsole;Gry na konsole;Gry Xbox 360</td>\n",
       "      <td>49.99</td>\n",
       "    </tr>\n",
       "    <tr>\n",
       "      <th>4</th>\n",
       "      <td>1005</td>\n",
       "      <td>Szalone Króliki Na żywo i w kolorze (Xbox 360)</td>\n",
       "      <td>Gry i konsole;Gry na konsole;Gry Xbox 360</td>\n",
       "      <td>49.99</td>\n",
       "    </tr>\n",
       "  </tbody>\n",
       "</table>\n",
       "</div>"
      ],
      "text/plain": [
       "   product_id                                    product_name  \\\n",
       "0        1001                   Telefon Siemens Gigaset DA310   \n",
       "1        1002                              Kyocera FS-1135MFP   \n",
       "2        1003                              Kyocera FS-3640MFP   \n",
       "3        1004                            Fallout 3 (Xbox 360)   \n",
       "4        1005  Szalone Króliki Na żywo i w kolorze (Xbox 360)   \n",
       "\n",
       "                                       category_path    price  \n",
       "0          Telefony i akcesoria;Telefony stacjonarne    58.97  \n",
       "1  Komputery;Drukarki i skanery;Biurowe urządzeni...  2048.50  \n",
       "2  Komputery;Drukarki i skanery;Biurowe urządzeni...  7639.00  \n",
       "3          Gry i konsole;Gry na konsole;Gry Xbox 360    49.99  \n",
       "4          Gry i konsole;Gry na konsole;Gry Xbox 360    49.99  "
      ]
     },
     "execution_count": 48,
     "metadata": {},
     "output_type": "execute_result"
    }
   ],
   "source": [
    "productsDataFrame = getDataFromJson('products.jsonl')\n",
    "productsDataFrame.head()"
   ]
  },
  {
   "cell_type": "code",
   "execution_count": 50,
   "id": "93a5d7f5",
   "metadata": {
    "scrolled": false
   },
   "outputs": [
    {
     "name": "stdout",
     "output_type": "stream",
     "text": [
      "<class 'pandas.core.frame.DataFrame'>\n",
      "RangeIndex: 319 entries, 0 to 318\n",
      "Data columns (total 4 columns):\n",
      " #   Column         Non-Null Count  Dtype  \n",
      "---  ------         --------------  -----  \n",
      " 0   product_id     319 non-null    int64  \n",
      " 1   product_name   319 non-null    object \n",
      " 2   category_path  319 non-null    object \n",
      " 3   price          319 non-null    float64\n",
      "dtypes: float64(1), int64(1), object(2)\n",
      "memory usage: 10.1+ KB\n"
     ]
    },
    {
     "data": {
      "text/plain": [
       "count     319.000000\n",
       "mean      247.787962\n",
       "std       813.788548\n",
       "min         1.000000\n",
       "25%        24.990000\n",
       "50%        41.000000\n",
       "75%        92.995000\n",
       "max      7639.000000\n",
       "Name: price, dtype: float64"
      ]
     },
     "execution_count": 50,
     "metadata": {},
     "output_type": "execute_result"
    }
   ],
   "source": [
    "productsDataFrame.info()\n",
    "productsDataFrame[\"price\"].describe()"
   ]
  },
  {
   "cell_type": "code",
   "execution_count": 51,
   "id": "836746ac",
   "metadata": {},
   "outputs": [],
   "source": [
    "with open(\"../data/raw/products.jsonl\") as file:\n",
    "  lines = [n.strip() for n in file.readlines()]\n",
    "  product_raw_data = [json.loads(n) for n in lines]\n",
    "    \n",
    "product_data_ids = set(product['product_id'] for product in product_raw_data)\n",
    "for session in session_raw_data:\n",
    "    assert session['product_id'] in product_data_ids"
   ]
  },
  {
   "cell_type": "markdown",
   "id": "6e648f10",
   "metadata": {},
   "source": [
    "## Przykładowe rekordy"
   ]
  },
  {
   "cell_type": "code",
   "execution_count": 15,
   "id": "e2a06064",
   "metadata": {},
   "outputs": [
    {
     "data": {
      "text/html": [
       "<div>\n",
       "<style scoped>\n",
       "    .dataframe tbody tr th:only-of-type {\n",
       "        vertical-align: middle;\n",
       "    }\n",
       "\n",
       "    .dataframe tbody tr th {\n",
       "        vertical-align: top;\n",
       "    }\n",
       "\n",
       "    .dataframe thead th {\n",
       "        text-align: right;\n",
       "    }\n",
       "</style>\n",
       "<table border=\"1\" class=\"dataframe\">\n",
       "  <thead>\n",
       "    <tr style=\"text-align: right;\">\n",
       "      <th></th>\n",
       "      <th>session_id</th>\n",
       "      <th>timestamp</th>\n",
       "      <th>user_id</th>\n",
       "      <th>product_id</th>\n",
       "      <th>event_type</th>\n",
       "      <th>offered_discount</th>\n",
       "      <th>purchase_id</th>\n",
       "    </tr>\n",
       "  </thead>\n",
       "  <tbody>\n",
       "    <tr>\n",
       "      <th>0</th>\n",
       "      <td>124</td>\n",
       "      <td>2021-05-26T01:18:01</td>\n",
       "      <td>102</td>\n",
       "      <td>1277</td>\n",
       "      <td>VIEW_PRODUCT</td>\n",
       "      <td>20</td>\n",
       "      <td>NaN</td>\n",
       "    </tr>\n",
       "    <tr>\n",
       "      <th>1</th>\n",
       "      <td>124</td>\n",
       "      <td>2021-05-26T01:19:32</td>\n",
       "      <td>102</td>\n",
       "      <td>1276</td>\n",
       "      <td>VIEW_PRODUCT</td>\n",
       "      <td>20</td>\n",
       "      <td>NaN</td>\n",
       "    </tr>\n",
       "    <tr>\n",
       "      <th>2</th>\n",
       "      <td>125</td>\n",
       "      <td>2021-07-16T14:16:04</td>\n",
       "      <td>102</td>\n",
       "      <td>1002</td>\n",
       "      <td>VIEW_PRODUCT</td>\n",
       "      <td>20</td>\n",
       "      <td>NaN</td>\n",
       "    </tr>\n",
       "    <tr>\n",
       "      <th>3</th>\n",
       "      <td>125</td>\n",
       "      <td>2021-07-16T14:17:23</td>\n",
       "      <td>102</td>\n",
       "      <td>1079</td>\n",
       "      <td>VIEW_PRODUCT</td>\n",
       "      <td>20</td>\n",
       "      <td>NaN</td>\n",
       "    </tr>\n",
       "    <tr>\n",
       "      <th>4</th>\n",
       "      <td>125</td>\n",
       "      <td>2021-07-16T14:19:23</td>\n",
       "      <td>102</td>\n",
       "      <td>1080</td>\n",
       "      <td>VIEW_PRODUCT</td>\n",
       "      <td>20</td>\n",
       "      <td>NaN</td>\n",
       "    </tr>\n",
       "  </tbody>\n",
       "</table>\n",
       "</div>"
      ],
      "text/plain": [
       "   session_id            timestamp  user_id  product_id    event_type  \\\n",
       "0         124  2021-05-26T01:18:01      102        1277  VIEW_PRODUCT   \n",
       "1         124  2021-05-26T01:19:32      102        1276  VIEW_PRODUCT   \n",
       "2         125  2021-07-16T14:16:04      102        1002  VIEW_PRODUCT   \n",
       "3         125  2021-07-16T14:17:23      102        1079  VIEW_PRODUCT   \n",
       "4         125  2021-07-16T14:19:23      102        1080  VIEW_PRODUCT   \n",
       "\n",
       "   offered_discount  purchase_id  \n",
       "0                20          NaN  \n",
       "1                20          NaN  \n",
       "2                20          NaN  \n",
       "3                20          NaN  \n",
       "4                20          NaN  "
      ]
     },
     "execution_count": 15,
     "metadata": {},
     "output_type": "execute_result"
    }
   ],
   "source": [
    "# sessions = pd.read_csv(\"../data/processed/merged_dataset\", sep=' ')\n",
    "# sessions.head()\n",
    "   \n",
    "sessionsDataFrame = getDataFromJson('sessions.jsonl')\n",
    "sessionsDataFrame.head()"
   ]
  },
  {
   "cell_type": "markdown",
   "id": "6557bcd9",
   "metadata": {},
   "source": [
    "## Analiza ilościowa\n",
    "Postanowiliśmy zbadać czy zbiór danych nie jest zdominowany przez sesje określonego typu: czy jest podobna\n",
    "ilość tych które się zakończyły zakupem i tych w których do zakupu nie doszło:"
   ]
  },
  {
   "cell_type": "code",
   "execution_count": 6,
   "id": "30a78a68",
   "metadata": {},
   "outputs": [
    {
     "data": {
      "image/png": "[encoded data removed]",
      "text/plain": [
       "<Figure size 432x288 with 1 Axes>"
      ]
     },
     "metadata": {
      "needs_background": "light"
     },
     "output_type": "display_data"
    },
    {
     "name": "stdout",
     "output_type": "stream",
     "text": [
      "Różnica:  11.78%\n"
     ]
    }
   ],
   "source": [
    "sessionEndShopping = 0\n",
    "sessionEndNotShopping = 0\n",
    "sessionsDataFrame.sort_values(by=['session_id'])\n",
    "sessions = []\n",
    "\n",
    "for index, row in sessionsDataFrame.iterrows(): #merge session logs by id\n",
    "    if len(sessions)==0:\n",
    "        sessions.append([row['session_id'], row['event_type']])\n",
    "    else:\n",
    "        if sessions[len(sessions)-1][0] == row['session_id']:\n",
    "            if sessions[len(sessions)-1][1] != 'BUY_PRODUCT':\n",
    "                sessions[len(sessions)-1][1] = row['event_type']\n",
    "        else:\n",
    "            sessions.append([row['session_id'], row['event_type']])\n",
    "   \n",
    "for session in sessions:\n",
    "    if session[1] == 'BUY_PRODUCT':\n",
    "        sessionEndShopping += 1\n",
    "    else:\n",
    "        sessionEndNotShopping += 1\n",
    "    \n",
    "fig = plt.figure()\n",
    "ax = fig.add_axes([0,0,1,1])\n",
    "langs = ['sessions ended with a purchase', 'sessions NOT ended with a purchase']\n",
    "students = [sessionEndShopping,sessionEndNotShopping]\n",
    "ax.bar(langs,students)\n",
    "plt.show()\n",
    "\n",
    "diff = abs(sessionEndNotShopping-sessionEndShopping)/(sessionEndShopping+sessionEndNotShopping)\n",
    "print('Różnica:  '+str(round(diff*100, 2))+'%')\n"
   ]
  },
  {
   "cell_type": "markdown",
   "id": "b577680a",
   "metadata": {},
   "source": [
    "Okazuje się że sesji zakończonych zakupem jest nieco więcej, niż tych w których do zakupu nie doszło. Nie istnieje jednak tutaj problem wynikający z niezbalansowania danych - różnica między sesjami zakończonymi zakupem a sesjami niezakończonymi nie jest wystarczająco duża.\n",
    "\n",
    "Postanowiliśmy sprawdzić ile unikalnych kategorii produktów mamy i jak się mają ich rozkłady."
   ]
  },
  {
   "cell_type": "code",
   "execution_count": 7,
   "id": "4d0889be",
   "metadata": {},
   "outputs": [],
   "source": [
    "def checkIfUnique(collection, name):\n",
    "    for element in collection:\n",
    "        if element[0] == name:\n",
    "            return False\n",
    "    return True;\n",
    "\n",
    "def getSubCategories(collection, name):\n",
    "    for element in collection:\n",
    "        if element[0] == name:\n",
    "            element[2] += 1\n",
    "            return element[1]\n",
    "    return None\n",
    "\n",
    "def addCategories(collection, categoryArray, depth):\n",
    "    if len(categoryArray) > depth:\n",
    "        category = categoryArray[depth]\n",
    "        if checkIfUnique(collection, category):\n",
    "            collection.append([category,[],0])\n",
    "        subCategories = getSubCategories(collection, category)\n",
    "        addCategories(subCategories, categoryArray, depth+1)\n",
    "        \n",
    "def printCollection1(collection, string):\n",
    "    if len(collection) == 0:\n",
    "        print(string[2:])\n",
    "    else:\n",
    "        for element in collection:\n",
    "            printCollection1(element[1], string+': '+element[0]+'('+str(element[2]) +')')\n",
    "        \n",
    "def printCollection2(collection, length):\n",
    "    for element in collection:\n",
    "        print(element[0]+':  ',end = '')\n",
    "        printCollection2(element[1], length+len(element[0]))"
   ]
  },
  {
   "cell_type": "markdown",
   "id": "17918bc1",
   "metadata": {},
   "source": [
    "Z poniżej wyznaczonych kategorii produktów wynika, że znaczącą większość produktów w sklepie stanowią \"Gry i konsole\", a w nich przeważającym składnikiem są \"Gry komputerowe\". Są to dane niezbalansowane, wynikające ze specjalizacją sklepu, dla którego szykujemy biznesowe rozwiązanie predykcyjne."
   ]
  },
  {
   "cell_type": "code",
   "execution_count": 8,
   "id": "61c34346",
   "metadata": {},
   "outputs": [
    {
     "name": "stdout",
     "output_type": "stream",
     "text": [
      "Telefony i akcesoria(12): Telefony stacjonarne(1)\n",
      "Telefony i akcesoria(12): Telefony komórkowe(2)\n",
      "Telefony i akcesoria(12): Akcesoria telefoniczne(9): Zestawy głośnomówiące(5)\n",
      "Telefony i akcesoria(12): Akcesoria telefoniczne(9): Zestawy słuchawkowe(4)\n",
      "Komputery(28): Drukarki i skanery(9): Biurowe urządzenia wielofunkcyjne(9)\n",
      "Komputery(28): Monitory(17): Monitory LCD(17)\n",
      "Komputery(28): Tablety i akcesoria(2): Tablety(2)\n",
      "Gry i konsole(243): Gry na konsole(41): Gry Xbox 360(32)\n",
      "Gry i konsole(243): Gry na konsole(41): Gry PlayStation3(9)\n",
      "Gry i konsole(243): Gry komputerowe(202)\n",
      "Sprzęt RTV(36): Video(33): Odtwarzacze DVD(2)\n",
      "Sprzęt RTV(36): Video(33): Telewizory i akcesoria(31): Okulary 3D(1)\n",
      "Sprzęt RTV(36): Video(33): Telewizory i akcesoria(31): Anteny RTV(30)\n",
      "Sprzęt RTV(36): Przenośne audio i video(2): Odtwarzacze mp3 i mp4(2)\n",
      "Sprzęt RTV(36): Audio(1): Słuchawki(1)\n"
     ]
    }
   ],
   "source": [
    "sessionsDataFrame = getDataFromJson('products.jsonl')\n",
    "\n",
    "mainCategories = []\n",
    "\n",
    "for index, row in sessionsDataFrame.iterrows():\n",
    "    categories = row['category_path'].split(';')\n",
    "    addCategories(mainCategories, categories, 0)\n",
    "    \n",
    "printCollection1(mainCategories,'')\n"
   ]
  },
  {
   "cell_type": "code",
   "execution_count": null,
   "id": "b53ee6f9",
   "metadata": {},
   "outputs": [],
   "source": []
  },
  {
   "cell_type": "code",
   "execution_count": null,
   "id": "026beba7",
   "metadata": {},
   "outputs": [],
   "source": []
  },
  {
   "cell_type": "code",
   "execution_count": null,
   "id": "07d2bd6d",
   "metadata": {},
   "outputs": [],
   "source": []
  },
  {
   "cell_type": "code",
   "execution_count": null,
   "id": "9be967b8",
   "metadata": {},
   "outputs": [],
   "source": []
  },
  {
   "cell_type": "markdown",
   "id": "6405484e",
   "metadata": {},
   "source": [
    "## Literatura\n",
    "\n",
    "* Esmeli, R., Bader-El-Den, M. & Abdullahi, H. Towards early purchase intention prediction in online session based retailing systems. Electron Markets 31, 697–715 (2021). https://doi.org/10.1007/s12525-020-00448-x\n",
    "* S. Luo, S. Zhang and H. Cong, \"Research on Consumer Purchasing Prediction Based on XGBoost Algorithm,\" 2021 IEEE International Conference on Artificial Intelligence and Computer Applications (ICAICA), 2021, pp. 1173-1176. https://doi.org/10.1109/ICAICA52286.2021.9497944\n",
    "* Bruno J.D. Jacobs, Bas Donkers, Dennis Fok (2016) Model-Based Purchase Predictions for Large Assortments. Marketing Science 35(3):389-404. https://doi.org/10.1287/mksc.2016.0985\n",
    "* Haubner, Nicolas & Setzer, Thomas. (2021). Hybrid Recommender Systems for Next Purchase Prediction Based on Optimal Combination Weights.\n",
    "[Źródło](https://www.researchgate.net/publication/349711825_Hybrid_Recommender_Systems_for_Next_Purchase_Prediction_Based_on_Optimal_Combination_Weights)"
   ]
  }
 ],
 "metadata": {
  "kernelspec": {
   "display_name": "Python 3 (ipykernel)",
   "language": "python",
   "name": "python3"
  },
  "language_info": {
   "codemirror_mode": {
    "name": "ipython",
    "version": 3
   },
   "file_extension": ".py",
   "mimetype": "text/x-python",
   "name": "python",
   "nbconvert_exporter": "python",
   "pygments_lexer": "ipython3",
   "version": "3.9.7"
  }
 },
 "nbformat": 4,
 "nbformat_minor": 5
}
