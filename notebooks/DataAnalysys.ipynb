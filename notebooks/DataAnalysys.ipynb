{
 "cells": [
  {
   "cell_type": "markdown",
   "id": "9c093a26",
   "metadata": {},
   "source": [
    "# Wstępna analiza IUM\n",
    "Rafał Bosko <br>"
   ]
  },
  {
   "cell_type": "code",
   "execution_count": 15,
   "id": "29054f44",
   "metadata": {},
   "outputs": [],
   "source": [
    "import jsonlines\n",
    "import json\n",
    "import pandas as pd\n",
    "import math\n",
    "import matplotlib.pyplot as plt"
   ]
  },
  {
   "cell_type": "markdown",
   "id": "aa5dcd72",
   "metadata": {},
   "source": [
    "## Problem biznesowy\n",
    "<blockquote>\n",
    "Predykcja czy dana sesja użytkownika zakończy się zakupem na podstawie danych sesji. Skuteczna klasyfikacja sesji, które zakończą się zakupem umożliwi konsultantom szybsze rozwiązywanie problemów\n",
    "</blockquote>\n",
    "\n",
    "## Biznesowe kryterium sukcesu\n",
    "System powinien przewidywać sesje, które zakończą się zakupem z efektywnością porównywalną z innymi istniejącymi rozwiązaniami wymienionymi w [literaturze](#literatura).\n",
    "\n",
    "## Zadanie modelowania\n",
    "Zadaniem jest klasyfikacja binarna odpowiadająca na pytanie \"Czy sesja użytkownika zakończy się zakupem?\".\n",
    "Do dyspozycji mamy historyczne dane składające się z:\n",
    "* bazy użytkowników\n",
    "* katalogu produktów\n",
    "* historia sesji\n",
    "* dane dotyczące wysyłki zakupionych produktów\n",
    "\n",
    "## Analityczne kryterium sukcesu\n",
    "Uzyskanie odpowiednio wysokiej skuteczności predykcji mierzonej poprzez *Accuracy* obliczanej jako: \n",
    "$\\frac{TP + TN}{TP + TN + FP + FN}$\n",
    "\n",
    "Rozważaliśmy również *F1 score*, obliczanej jako: $2 * \\frac{Precision * Recall}{Precision + Recall}$ gdzie: <br>\n",
    "$Precision = \\frac{TP}{TP + FP}$ oraz $Recall = \\frac{TP}{TP + FN}$\n",
    "\n",
    "Nie zdecydowaliśmy jednak wstępnie na tą miarę, ponieważ:\n",
    "* jest trudniejsza do interpretacji\n",
    "* F1 sprawdza się lepiej od Accuraccy w przypadku, gdy jest duża dysproporcja między klasami, a w naszym przypadku takiego problemu nie ma\n",
    "\n",
    "## Analiza zbioru danych\n",
    "Wstępna analiza danych pozwoliła nam odrzucić dane o przesyłkach, ponieważ te dane są dostarczane po zakupie i nie wpływają na zakup, podobna sytuacja dotyyczyła dwóch kolumn z tabeli sessions: typ zdarzenia i id zakupu, ponieważ to warość typu zdarzenia (zakup czy nie) będziemy przewidywali, a id zakupu jest ściśle skorelowane z typem zdarzenia.\n",
    "\n",
    "Informacje zawarte w pozostałych tabelach są dostępne w trakcie trwania sesji, więc przeszliśmy do bardziej szczegółowej analizy tego fragmentu danych.\n",
    "\n",
    "Postanowiliśmy wyróżnić ze zbioru danych następujące informacje:\n",
    "* [*user_id*](#userId) - identyfikator użytkownika\n",
    "* [*purchase*](#purchase) - wartość boolowska odpowiadająca na pytanie czy sesja zakończyła się zakupem\n",
    "* [*offered_discount*](#discount) - wysokość zniżki\n",
    "* [*item_views*](#item_views) - liczba obejrzanych przedmiotów w danej sesji\n",
    "* [*unique_item_views*](#unique_item_views) - liczba przejrzanych unikalnych przedmiotów\n",
    "* [*unique_categories*](#unique_categories) - liczba przejrzanych unikalnych kategorii\n",
    "\n",
    "## Brakujące wartości\n",
    "--do sprawdzenia--\n"
   ]
  },
  {
   "cell_type": "code",
   "execution_count": 16,
   "id": "f05c97b3",
   "metadata": {},
   "outputs": [],
   "source": [
    "def getDataFromJson(fileName):\n",
    "    with open('../data/raw/'+fileName) as f:\n",
    "        lines = f.read().splitlines()\n",
    "    \n",
    "    dataFrame = pd.DataFrame(lines)\n",
    "    dataFrame.columns = ['json_element']\n",
    "    return pd.json_normalize(dataFrame['json_element'].apply(json.loads))"
   ]
  },
  {
   "cell_type": "markdown",
   "id": "6e648f10",
   "metadata": {},
   "source": [
    "## Przykładowe rekordy"
   ]
  },
  {
   "cell_type": "code",
   "execution_count": 17,
   "id": "e2a06064",
   "metadata": {},
   "outputs": [
    {
     "data": {
      "text/html": [
       "<div>\n",
       "<style scoped>\n",
       "    .dataframe tbody tr th:only-of-type {\n",
       "        vertical-align: middle;\n",
       "    }\n",
       "\n",
       "    .dataframe tbody tr th {\n",
       "        vertical-align: top;\n",
       "    }\n",
       "\n",
       "    .dataframe thead th {\n",
       "        text-align: right;\n",
       "    }\n",
       "</style>\n",
       "<table border=\"1\" class=\"dataframe\">\n",
       "  <thead>\n",
       "    <tr style=\"text-align: right;\">\n",
       "      <th></th>\n",
       "      <th>session_id</th>\n",
       "      <th>timestamp</th>\n",
       "      <th>user_id</th>\n",
       "      <th>product_id</th>\n",
       "      <th>event_type</th>\n",
       "      <th>offered_discount</th>\n",
       "      <th>purchase_id</th>\n",
       "    </tr>\n",
       "  </thead>\n",
       "  <tbody>\n",
       "    <tr>\n",
       "      <th>0</th>\n",
       "      <td>124</td>\n",
       "      <td>2021-05-26T01:18:01</td>\n",
       "      <td>102</td>\n",
       "      <td>1277</td>\n",
       "      <td>VIEW_PRODUCT</td>\n",
       "      <td>20</td>\n",
       "      <td>NaN</td>\n",
       "    </tr>\n",
       "    <tr>\n",
       "      <th>1</th>\n",
       "      <td>124</td>\n",
       "      <td>2021-05-26T01:19:32</td>\n",
       "      <td>102</td>\n",
       "      <td>1276</td>\n",
       "      <td>VIEW_PRODUCT</td>\n",
       "      <td>20</td>\n",
       "      <td>NaN</td>\n",
       "    </tr>\n",
       "    <tr>\n",
       "      <th>2</th>\n",
       "      <td>125</td>\n",
       "      <td>2021-07-16T14:16:04</td>\n",
       "      <td>102</td>\n",
       "      <td>1002</td>\n",
       "      <td>VIEW_PRODUCT</td>\n",
       "      <td>20</td>\n",
       "      <td>NaN</td>\n",
       "    </tr>\n",
       "    <tr>\n",
       "      <th>3</th>\n",
       "      <td>125</td>\n",
       "      <td>2021-07-16T14:17:23</td>\n",
       "      <td>102</td>\n",
       "      <td>1079</td>\n",
       "      <td>VIEW_PRODUCT</td>\n",
       "      <td>20</td>\n",
       "      <td>NaN</td>\n",
       "    </tr>\n",
       "    <tr>\n",
       "      <th>4</th>\n",
       "      <td>125</td>\n",
       "      <td>2021-07-16T14:19:23</td>\n",
       "      <td>102</td>\n",
       "      <td>1080</td>\n",
       "      <td>VIEW_PRODUCT</td>\n",
       "      <td>20</td>\n",
       "      <td>NaN</td>\n",
       "    </tr>\n",
       "  </tbody>\n",
       "</table>\n",
       "</div>"
      ],
      "text/plain": [
       "   session_id            timestamp  user_id  product_id    event_type  \\\n",
       "0         124  2021-05-26T01:18:01      102        1277  VIEW_PRODUCT   \n",
       "1         124  2021-05-26T01:19:32      102        1276  VIEW_PRODUCT   \n",
       "2         125  2021-07-16T14:16:04      102        1002  VIEW_PRODUCT   \n",
       "3         125  2021-07-16T14:17:23      102        1079  VIEW_PRODUCT   \n",
       "4         125  2021-07-16T14:19:23      102        1080  VIEW_PRODUCT   \n",
       "\n",
       "   offered_discount  purchase_id  \n",
       "0                20          NaN  \n",
       "1                20          NaN  \n",
       "2                20          NaN  \n",
       "3                20          NaN  \n",
       "4                20          NaN  "
      ]
     },
     "execution_count": 17,
     "metadata": {},
     "output_type": "execute_result"
    }
   ],
   "source": [
    "# sessions = pd.read_csv(\"../data/processed/merged_dataset\", sep=' ')\n",
    "# sessions.head()\n",
    "   \n",
    "sessionsDataFrame = getDataFromJson('sessions.jsonl')\n",
    "\n",
    "sessionsDataFrame.head()"
   ]
  },
  {
   "cell_type": "markdown",
   "id": "6557bcd9",
   "metadata": {},
   "source": [
    "## Analiza ilościowa\n",
    "Postanowiliśmy zbadać czy zbiór danych nie jest zdominowany przez sesje określonego typu: czy jest podobna\n",
    "ilość tych które się zakończyły zakupem i tych w których do zakupu nie doszło:"
   ]
  },
  {
   "cell_type": "code",
   "execution_count": 18,
   "id": "30a78a68",
   "metadata": {},
   "outputs": [
    {
     "data": {
      "image/png": "[encoded data removed]",
      "text/plain": [
       "<Figure size 432x288 with 1 Axes>"
      ]
     },
     "metadata": {
      "needs_background": "light"
     },
     "output_type": "display_data"
    }
   ],
   "source": [
    "sessionEndShopping = 0\n",
    "sessionEndNotShopping = 0\n",
    "for index, row in sessionsDataFrame.iterrows():\n",
    "#     print(row['purchase_id'])\n",
    "    if math.isnan(row['purchase_id']):\n",
    "        sessionEndNotShopping += 1\n",
    "    else:\n",
    "        sessionEndShopping += 1\n",
    "        \n",
    "fig = plt.figure()\n",
    "ax = fig.add_axes([0,0,1,1])\n",
    "langs = ['sessions ended with a purchase', 'sessions NOT ended with a purchase']\n",
    "students = [sessionEndShopping,sessionEndNotShopping]\n",
    "ax.bar(langs,students)\n",
    "plt.show()"
   ]
  },
  {
   "cell_type": "markdown",
   "id": "b577680a",
   "metadata": {},
   "source": [
    "Okazuje się że znacząco przeważają sesje w których nie doszło do zakupu.\n",
    "\n",
    "Postanowiliśmy sprawdzić ile unikalnych kategorii produktów mamy i jak się mają ich rozkłady"
   ]
  },
  {
   "cell_type": "code",
   "execution_count": 19,
   "id": "61c34346",
   "metadata": {},
   "outputs": [],
   "source": [
    "sessionsDataFrame = getDataFromJson('products.jsonl')\n",
    "# graph tree?"
   ]
  },
  {
   "cell_type": "code",
   "execution_count": null,
   "id": "b53ee6f9",
   "metadata": {},
   "outputs": [],
   "source": []
  },
  {
   "cell_type": "code",
   "execution_count": null,
   "id": "026beba7",
   "metadata": {},
   "outputs": [],
   "source": []
  },
  {
   "cell_type": "code",
   "execution_count": null,
   "id": "07d2bd6d",
   "metadata": {},
   "outputs": [],
   "source": []
  },
  {
   "cell_type": "code",
   "execution_count": null,
   "id": "9be967b8",
   "metadata": {},
   "outputs": [],
   "source": []
  },
  {
   "cell_type": "code",
   "execution_count": null,
   "id": "7c396a44",
   "metadata": {},
   "outputs": [],
   "source": []
  }
 ],
 "metadata": {
  "kernelspec": {
   "display_name": "Python 3",
   "language": "python",
   "name": "python3"
  },
  "language_info": {
   "codemirror_mode": {
    "name": "ipython",
    "version": 3
   },
   "file_extension": ".py",
   "mimetype": "text/x-python",
   "name": "python",
   "nbconvert_exporter": "python",
   "pygments_lexer": "ipython3",
   "version": "3.8.10"
  }
 },
 "nbformat": 4,
 "nbformat_minor": 5
}
